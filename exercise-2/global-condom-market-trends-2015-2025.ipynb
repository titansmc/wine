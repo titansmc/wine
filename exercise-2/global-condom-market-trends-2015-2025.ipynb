{
 "cells": [
  {
   "cell_type": "code",
   "execution_count": null,
   "metadata": {
    "_cell_guid": "b1076dfc-b9ad-4769-8c92-a6c4dae69d19",
    "_uuid": "8f2839f25d086af736a60e9eeb907d3b93b6e0e5",
    "execution": {
     "iopub.execute_input": "2025-03-31T10:38:01.555096Z",
     "iopub.status.busy": "2025-03-31T10:38:01.554729Z",
     "iopub.status.idle": "2025-03-31T10:38:04.260148Z",
     "shell.execute_reply": "2025-03-31T10:38:04.259129Z",
     "shell.execute_reply.started": "2025-03-31T10:38:01.555061Z"
    },
    "trusted": true
   },
   "outputs": [],
   "source": [
    "# This Python 3 environment comes with many helpful analytics libraries installed\n",
    "# It is defined by the kaggle/python Docker image: https://github.com/kaggle/docker-python\n",
    "# For example, here's several helpful packages to load\n",
    "\n",
    "import numpy as np # linear algebra\n",
    "import pandas as pd # data processing, CSV file I/O (e.g. pd.read_csv)\n",
    "import seaborn as sns\n",
    "import matplotlib.pyplot as plt\n",
    "import warnings\n",
    "warnings.filterwarnings('ignore')\n",
    "# Input data files are available in the read-only \"../input/\" directory\n",
    "# For example, running this (by clicking run or pressing Shift+Enter) will list all files under the input directory\n",
    "\n",
    "import os\n",
    "for dirname, _, filenames in os.walk('/kaggle/input'):\n",
    "    for filename in filenames:\n",
    "        print(os.path.join(dirname, filename))\n",
    "\n",
    "# You can write up to 20GB to the current directory (/kaggle/working/) that gets preserved as output when you create a version using \"Save & Run All\" \n",
    "# You can also write temporary files to /kaggle/temp/, but they won't be saved outside of the current session"
   ]
  },
  {
   "cell_type": "markdown",
   "metadata": {},
   "source": [
    "## Title: Global Condom Market Trends (2015-2025)"
   ]
  },
  {
   "cell_type": "markdown",
   "metadata": {},
   "source": [
    "### Description: Analyzing global condom sales and awareness trends from 2015 to 2025, highlighting market growth, consumer behavior, and regional insights."
   ]
  },
  {
   "cell_type": "markdown",
   "metadata": {},
   "source": [
    "#### Import dataset"
   ]
  },
  {
   "cell_type": "code",
   "execution_count": null,
   "metadata": {
    "execution": {
     "iopub.execute_input": "2025-03-31T10:38:29.880414Z",
     "iopub.status.busy": "2025-03-31T10:38:29.880104Z",
     "iopub.status.idle": "2025-03-31T10:38:29.901298Z",
     "shell.execute_reply": "2025-03-31T10:38:29.900456Z",
     "shell.execute_reply.started": "2025-03-31T10:38:29.88039Z"
    },
    "trusted": true
   },
   "outputs": [],
   "source": [
    "df = pd.read_csv('./Rich_Global_Condom_Usage_Dataset.csv')"
   ]
  },
  {
   "cell_type": "code",
   "execution_count": null,
   "metadata": {
    "execution": {
     "iopub.execute_input": "2025-03-31T10:38:34.060626Z",
     "iopub.status.busy": "2025-03-31T10:38:34.060302Z",
     "iopub.status.idle": "2025-03-31T10:38:34.093884Z",
     "shell.execute_reply": "2025-03-31T10:38:34.092777Z",
     "shell.execute_reply.started": "2025-03-31T10:38:34.060603Z"
    },
    "trusted": true
   },
   "outputs": [],
   "source": [
    "df.head()"
   ]
  },
  {
   "cell_type": "code",
   "execution_count": null,
   "metadata": {
    "execution": {
     "iopub.execute_input": "2025-03-31T10:38:36.7513Z",
     "iopub.status.busy": "2025-03-31T10:38:36.750957Z",
     "iopub.status.idle": "2025-03-31T10:38:36.768959Z",
     "shell.execute_reply": "2025-03-31T10:38:36.767872Z",
     "shell.execute_reply.started": "2025-03-31T10:38:36.751273Z"
    },
    "trusted": true
   },
   "outputs": [],
   "source": [
    "df.tail()"
   ]
  },
  {
   "cell_type": "code",
   "execution_count": null,
   "metadata": {
    "execution": {
     "iopub.execute_input": "2025-03-31T10:38:39.274906Z",
     "iopub.status.busy": "2025-03-31T10:38:39.274487Z",
     "iopub.status.idle": "2025-03-31T10:38:39.300789Z",
     "shell.execute_reply": "2025-03-31T10:38:39.299968Z",
     "shell.execute_reply.started": "2025-03-31T10:38:39.27487Z"
    },
    "trusted": true
   },
   "outputs": [],
   "source": [
    "df.info()"
   ]
  },
  {
   "cell_type": "code",
   "execution_count": null,
   "metadata": {
    "execution": {
     "iopub.execute_input": "2025-03-31T10:38:55.140663Z",
     "iopub.status.busy": "2025-03-31T10:38:55.14034Z",
     "iopub.status.idle": "2025-03-31T10:38:55.176196Z",
     "shell.execute_reply": "2025-03-31T10:38:55.175311Z",
     "shell.execute_reply.started": "2025-03-31T10:38:55.140639Z"
    },
    "trusted": true
   },
   "outputs": [],
   "source": [
    "df.describe()"
   ]
  },
  {
   "cell_type": "code",
   "execution_count": null,
   "metadata": {
    "execution": {
     "iopub.execute_input": "2025-03-31T10:39:01.815426Z",
     "iopub.status.busy": "2025-03-31T10:39:01.815103Z",
     "iopub.status.idle": "2025-03-31T10:39:01.823452Z",
     "shell.execute_reply": "2025-03-31T10:39:01.822426Z",
     "shell.execute_reply.started": "2025-03-31T10:39:01.815403Z"
    },
    "trusted": true
   },
   "outputs": [],
   "source": [
    "df.isnull().sum()"
   ]
  },
  {
   "cell_type": "code",
   "execution_count": null,
   "metadata": {
    "execution": {
     "iopub.execute_input": "2025-03-31T10:39:09.710275Z",
     "iopub.status.busy": "2025-03-31T10:39:09.709941Z",
     "iopub.status.idle": "2025-03-31T10:39:09.719863Z",
     "shell.execute_reply": "2025-03-31T10:39:09.71861Z",
     "shell.execute_reply.started": "2025-03-31T10:39:09.710251Z"
    },
    "trusted": true
   },
   "outputs": [],
   "source": [
    "df.duplicated().sum()"
   ]
  },
  {
   "cell_type": "code",
   "execution_count": null,
   "metadata": {
    "execution": {
     "iopub.execute_input": "2025-03-31T10:39:14.325336Z",
     "iopub.status.busy": "2025-03-31T10:39:14.324921Z",
     "iopub.status.idle": "2025-03-31T10:39:14.33123Z",
     "shell.execute_reply": "2025-03-31T10:39:14.330201Z",
     "shell.execute_reply.started": "2025-03-31T10:39:14.32531Z"
    },
    "trusted": true
   },
   "outputs": [],
   "source": [
    "df.shape"
   ]
  },
  {
   "cell_type": "code",
   "execution_count": null,
   "metadata": {
    "execution": {
     "iopub.execute_input": "2025-03-31T10:39:18.039441Z",
     "iopub.status.busy": "2025-03-31T10:39:18.039131Z",
     "iopub.status.idle": "2025-03-31T10:39:18.046674Z",
     "shell.execute_reply": "2025-03-31T10:39:18.045827Z",
     "shell.execute_reply.started": "2025-03-31T10:39:18.039418Z"
    },
    "trusted": true
   },
   "outputs": [],
   "source": [
    "df.dtypes"
   ]
  },
  {
   "cell_type": "code",
   "execution_count": null,
   "metadata": {
    "execution": {
     "iopub.execute_input": "2025-03-31T10:39:24.900924Z",
     "iopub.status.busy": "2025-03-31T10:39:24.900494Z",
     "iopub.status.idle": "2025-03-31T10:39:24.907593Z",
     "shell.execute_reply": "2025-03-31T10:39:24.9065Z",
     "shell.execute_reply.started": "2025-03-31T10:39:24.90089Z"
    },
    "trusted": true
   },
   "outputs": [],
   "source": [
    "df.columns"
   ]
  },
  {
   "cell_type": "markdown",
   "metadata": {},
   "source": [
    "## Data visualizations"
   ]
  },
  {
   "cell_type": "code",
   "execution_count": null,
   "metadata": {
    "execution": {
     "iopub.execute_input": "2025-03-31T10:40:11.257683Z",
     "iopub.status.busy": "2025-03-31T10:40:11.257338Z",
     "iopub.status.idle": "2025-03-31T10:40:12.060191Z",
     "shell.execute_reply": "2025-03-31T10:40:12.058934Z",
     "shell.execute_reply.started": "2025-03-31T10:40:11.257658Z"
    },
    "trusted": true
   },
   "outputs": [],
   "source": [
    "# Plot Sales and Revenue Trends\n",
    "plt.figure(figsize=(12, 6))\n",
    "sns.lineplot(data=df, x=\"Year\", y=\"Total Sales (Million Units)\", label=\"Total Sales\", marker=\"o\")\n",
    "sns.lineplot(data=df, x=\"Year\", y=\"Market Revenue (Million USD)\", label=\"Market Revenue\", marker=\"s\")\n",
    "\n",
    "plt.xlabel(\"Year\")\n",
    "plt.ylabel(\"Sales & Revenue\")\n",
    "plt.title(\"Global Condom Sales & Market Revenue (2015-2025)\")\n",
    "plt.legend()\n",
    "plt.grid(True)\n",
    "plt.show()"
   ]
  },
  {
   "cell_type": "code",
   "execution_count": null,
   "metadata": {
    "execution": {
     "iopub.execute_input": "2025-03-31T10:40:17.945011Z",
     "iopub.status.busy": "2025-03-31T10:40:17.944614Z",
     "iopub.status.idle": "2025-03-31T10:40:18.463611Z",
     "shell.execute_reply": "2025-03-31T10:40:18.462532Z",
     "shell.execute_reply.started": "2025-03-31T10:40:17.944964Z"
    },
    "trusted": true
   },
   "outputs": [],
   "source": [
    "plt.figure(figsize=(8, 6))\n",
    "sns.scatterplot(data=df, x=\"Awareness Index (0-10)\", y=\"Teen Pregnancy Rate (per 1000 teens)\", hue=\"Country\", palette=\"coolwarm\")\n",
    "plt.title(\"Awareness vs Teen Pregnancy Rate\")\n",
    "plt.xlabel(\"Awareness Index\")\n",
    "plt.ylabel(\"Teen Pregnancy Rate\")\n",
    "plt.grid(True)\n",
    "plt.show()"
   ]
  },
  {
   "cell_type": "code",
   "execution_count": null,
   "metadata": {
    "execution": {
     "iopub.execute_input": "2025-03-31T10:40:23.457043Z",
     "iopub.status.busy": "2025-03-31T10:40:23.456595Z",
     "iopub.status.idle": "2025-03-31T10:40:23.632231Z",
     "shell.execute_reply": "2025-03-31T10:40:23.631158Z",
     "shell.execute_reply.started": "2025-03-31T10:40:23.457001Z"
    },
    "trusted": true
   },
   "outputs": [],
   "source": [
    "plt.figure(figsize=(10, 5))\n",
    "sns.countplot(data=df, y=\"Most Popular Condom Type\", order=df[\"Most Popular Condom Type\"].value_counts().index, palette=\"Blues_r\")\n",
    "plt.title(\"Most Popular Condom Types Worldwide\")\n",
    "plt.xlabel(\"Count\")\n",
    "plt.ylabel(\"Condom Type\")\n",
    "plt.show()"
   ]
  },
  {
   "cell_type": "code",
   "execution_count": null,
   "metadata": {
    "execution": {
     "iopub.execute_input": "2025-03-31T10:40:29.355946Z",
     "iopub.status.busy": "2025-03-31T10:40:29.355553Z",
     "iopub.status.idle": "2025-03-31T10:40:29.458091Z",
     "shell.execute_reply": "2025-03-31T10:40:29.457032Z",
     "shell.execute_reply.started": "2025-03-31T10:40:29.355914Z"
    },
    "trusted": true
   },
   "outputs": [],
   "source": [
    "online_sales = df[\"Online Sales (%)\"].mean()\n",
    "offline_sales = 100 - online_sales\n",
    "\n",
    "plt.figure(figsize=(6, 6))\n",
    "plt.pie([online_sales, offline_sales], labels=[\"Online\", \"Offline\"], autopct=\"%1.1f%%\", colors=[\"skyblue\", \"lightcoral\"])\n",
    "plt.title(\"Online vs Offline Condom Sales\")\n",
    "plt.show()"
   ]
  },
  {
   "cell_type": "code",
   "execution_count": null,
   "metadata": {
    "execution": {
     "iopub.execute_input": "2025-03-31T10:40:35.214026Z",
     "iopub.status.busy": "2025-03-31T10:40:35.213612Z",
     "iopub.status.idle": "2025-03-31T10:40:35.402259Z",
     "shell.execute_reply": "2025-03-31T10:40:35.401173Z",
     "shell.execute_reply.started": "2025-03-31T10:40:35.213995Z"
    },
    "trusted": true
   },
   "outputs": [],
   "source": [
    "plt.figure(figsize=(12, 5))\n",
    "sns.countplot(data=df, y=\"Brand Dominance\", order=df[\"Brand Dominance\"].value_counts().index, palette=\"Greens_r\")\n",
    "plt.title(\"Market Dominance of Condom Brands\")\n",
    "plt.xlabel(\"Market Share Count\")\n",
    "plt.ylabel(\"Brand\")\n",
    "plt.show()"
   ]
  },
  {
   "cell_type": "code",
   "execution_count": null,
   "metadata": {
    "execution": {
     "iopub.execute_input": "2025-03-31T10:41:18.980792Z",
     "iopub.status.busy": "2025-03-31T10:41:18.980395Z",
     "iopub.status.idle": "2025-03-31T10:41:19.31546Z",
     "shell.execute_reply": "2025-03-31T10:41:19.314521Z",
     "shell.execute_reply.started": "2025-03-31T10:41:18.980762Z"
    },
    "trusted": true
   },
   "outputs": [],
   "source": [
    "# Function to clean and extract percentages\n",
    "def extract_percentages(value):\n",
    "    try:\n",
    "        male_part, female_part = value.split(\" - \")\n",
    "        male_percentage = float(male_part.replace(\"% Male\", \"\").strip())\n",
    "        female_percentage = float(female_part.replace(\"% Female\", \"\").strip())\n",
    "        return male_percentage, female_percentage\n",
    "    except Exception as e:\n",
    "        print(f\"Error processing value: {value}, Error: {e}\")\n",
    "        return None, None\n",
    "\n",
    "# Apply function to extract percentages\n",
    "df[\"Male Purchases (%)\"], df[\"Female Purchases (%)\"] = zip(*df[\"Male vs Female Purchases (%)\"].apply(extract_percentages))\n",
    "\n",
    "# Now plot the stacked bar chart\n",
    "plt.figure(figsize=(10, 5))\n",
    "df.groupby(\"Country\")[[\"Male Purchases (%)\", \"Female Purchases (%)\"]].mean().plot(\n",
    "    kind=\"bar\", stacked=True, colormap=\"coolwarm\", figsize=(12, 6)\n",
    ")\n",
    "\n",
    "plt.title(\"Male vs Female Condom Purchases by Country\")\n",
    "plt.xlabel(\"Country\")\n",
    "plt.ylabel(\"Percentage\")\n",
    "plt.legend([\"Male\", \"Female\"])\n",
    "plt.show()\n"
   ]
  },
  {
   "cell_type": "code",
   "execution_count": null,
   "metadata": {
    "execution": {
     "iopub.execute_input": "2025-03-31T10:40:48.956208Z",
     "iopub.status.busy": "2025-03-31T10:40:48.955739Z",
     "iopub.status.idle": "2025-03-31T10:40:49.35971Z",
     "shell.execute_reply": "2025-03-31T10:40:49.358817Z",
     "shell.execute_reply.started": "2025-03-31T10:40:48.956179Z"
    },
    "trusted": true
   },
   "outputs": [],
   "source": [
    "plt.figure(figsize=(10, 6))\n",
    "sns.boxplot(data=df, x=\"Country\", y=\"Contraceptive Usage Rate (%)\", palette=\"magma\")\n",
    "plt.xticks(rotation=90)\n",
    "plt.title(\"Contraceptive Usage Rate by Country\")\n",
    "plt.show()"
   ]
  },
  {
   "cell_type": "code",
   "execution_count": null,
   "metadata": {
    "execution": {
     "iopub.execute_input": "2025-03-31T10:40:54.847237Z",
     "iopub.status.busy": "2025-03-31T10:40:54.846906Z",
     "iopub.status.idle": "2025-03-31T10:40:55.060564Z",
     "shell.execute_reply": "2025-03-31T10:40:55.059476Z",
     "shell.execute_reply.started": "2025-03-31T10:40:54.847214Z"
    },
    "trusted": true
   },
   "outputs": [],
   "source": [
    "plt.figure(figsize=(8, 6))\n",
    "sns.violinplot(data=df, x=\"Sex Education Programs (Yes/No)\", y=\"Awareness Index (0-10)\", palette=\"pastel\")\n",
    "plt.title(\"Impact of Sex Education on Awareness Index\")\n",
    "plt.xlabel(\"Sex Education Programs\")\n",
    "plt.ylabel(\"Awareness Index\")\n",
    "plt.show()"
   ]
  },
  {
   "cell_type": "markdown",
   "metadata": {},
   "source": [
    "## Predictive modelings"
   ]
  },
  {
   "cell_type": "code",
   "execution_count": null,
   "metadata": {
    "execution": {
     "iopub.execute_input": "2025-03-31T10:42:40.738114Z",
     "iopub.status.busy": "2025-03-31T10:42:40.737725Z",
     "iopub.status.idle": "2025-03-31T10:42:41.500002Z",
     "shell.execute_reply": "2025-03-31T10:42:41.499103Z",
     "shell.execute_reply.started": "2025-03-31T10:42:40.738086Z"
    },
    "trusted": true
   },
   "outputs": [],
   "source": [
    "from sklearn.model_selection import train_test_split\n",
    "from sklearn.preprocessing import LabelEncoder\n",
    "from sklearn.ensemble import RandomForestClassifier, GradientBoostingClassifier\n",
    "from sklearn.linear_model import LogisticRegression\n",
    "from sklearn.svm import SVC\n",
    "from sklearn.naive_bayes import GaussianNB\n",
    "from sklearn.neighbors import KNeighborsClassifier\n",
    "from xgboost import XGBClassifier\n",
    "from sklearn.metrics import accuracy_score"
   ]
  },
  {
   "cell_type": "code",
   "execution_count": null,
   "metadata": {
    "execution": {
     "iopub.execute_input": "2025-03-31T10:42:46.235041Z",
     "iopub.status.busy": "2025-03-31T10:42:46.23467Z",
     "iopub.status.idle": "2025-03-31T10:42:46.239542Z",
     "shell.execute_reply": "2025-03-31T10:42:46.238583Z",
     "shell.execute_reply.started": "2025-03-31T10:42:46.235013Z"
    },
    "trusted": true
   },
   "outputs": [],
   "source": [
    "# Selecting Features and Target\n",
    "target_col = \"Sex Education Programs (Yes/No)\"  # Example: Predicting presence of sex education\n",
    "features = [col for col in df.columns if col != target_col]"
   ]
  },
  {
   "cell_type": "code",
   "execution_count": null,
   "metadata": {
    "execution": {
     "iopub.execute_input": "2025-03-31T10:42:52.159619Z",
     "iopub.status.busy": "2025-03-31T10:42:52.159298Z",
     "iopub.status.idle": "2025-03-31T10:42:52.170145Z",
     "shell.execute_reply": "2025-03-31T10:42:52.168755Z",
     "shell.execute_reply.started": "2025-03-31T10:42:52.159594Z"
    },
    "trusted": true
   },
   "outputs": [],
   "source": [
    "label_encoders = {}\n",
    "for col in df.select_dtypes(include=[\"object\"]).columns:\n",
    "    le = LabelEncoder()\n",
    "    df[col] = le.fit_transform(df[col])\n",
    "    label_encoders[col] = le  "
   ]
  },
  {
   "cell_type": "code",
   "execution_count": null,
   "metadata": {
    "execution": {
     "iopub.execute_input": "2025-03-31T10:42:58.738257Z",
     "iopub.status.busy": "2025-03-31T10:42:58.737914Z",
     "iopub.status.idle": "2025-03-31T10:42:58.747797Z",
     "shell.execute_reply": "2025-03-31T10:42:58.746793Z",
     "shell.execute_reply.started": "2025-03-31T10:42:58.738233Z"
    },
    "trusted": true
   },
   "outputs": [],
   "source": [
    "X = df[features]\n",
    "y = df[target_col]\n",
    "X_train, X_test, y_train, y_test = train_test_split(X, y, test_size=0.2, random_state=42)"
   ]
  },
  {
   "cell_type": "code",
   "execution_count": null,
   "metadata": {
    "execution": {
     "iopub.execute_input": "2025-03-31T10:43:04.770721Z",
     "iopub.status.busy": "2025-03-31T10:43:04.770272Z",
     "iopub.status.idle": "2025-03-31T10:43:04.777378Z",
     "shell.execute_reply": "2025-03-31T10:43:04.775886Z",
     "shell.execute_reply.started": "2025-03-31T10:43:04.770681Z"
    },
    "trusted": true
   },
   "outputs": [],
   "source": [
    "models = {\n",
    "    \"Logistic Regression\": LogisticRegression(),\n",
    "    \"Random Forest\": RandomForestClassifier(n_estimators=100, random_state=42),\n",
    "    \"SVM\": SVC(),\n",
    "    \"Gradient Boosting\": GradientBoostingClassifier(),\n",
    "    \"XGBoost\": XGBClassifier(use_label_encoder=False, eval_metric=\"logloss\"),\n",
    "    \"K-Nearest Neighbors\": KNeighborsClassifier(n_neighbors=5),\n",
    "    \"Naïve Bayes\": GaussianNB()\n",
    "}"
   ]
  },
  {
   "cell_type": "code",
   "execution_count": null,
   "metadata": {
    "execution": {
     "iopub.execute_input": "2025-03-31T10:43:10.877768Z",
     "iopub.status.busy": "2025-03-31T10:43:10.877421Z",
     "iopub.status.idle": "2025-03-31T10:43:11.609763Z",
     "shell.execute_reply": "2025-03-31T10:43:11.608636Z",
     "shell.execute_reply.started": "2025-03-31T10:43:10.877731Z"
    },
    "trusted": true
   },
   "outputs": [],
   "source": [
    "# Train and Evaluate Models\n",
    "results = {}\n",
    "for name, model in models.items():\n",
    "    model.fit(X_train, y_train)\n",
    "    y_pred = model.predict(X_test)\n",
    "    accuracy = accuracy_score(y_test, y_pred) * 100  # Convert to percentage\n",
    "    results[name] = accuracy\n",
    "    print(f\"{name}: {accuracy:.2f}% Accuracy\")"
   ]
  },
  {
   "cell_type": "code",
   "execution_count": null,
   "metadata": {
    "execution": {
     "iopub.execute_input": "2025-03-31T10:43:15.938197Z",
     "iopub.status.busy": "2025-03-31T10:43:15.937763Z",
     "iopub.status.idle": "2025-03-31T10:43:15.945583Z",
     "shell.execute_reply": "2025-03-31T10:43:15.944527Z",
     "shell.execute_reply.started": "2025-03-31T10:43:15.938167Z"
    },
    "trusted": true
   },
   "outputs": [],
   "source": [
    "sorted_results = sorted(results.items(), key=lambda x: x[1], reverse=True)\n",
    "print(\"\\nModel Performance Ranking:\")\n",
    "for model, acc in sorted_results:\n",
    "    print(f\"{model}: {acc:.2f}% Accuracy\")"
   ]
  },
  {
   "cell_type": "code",
   "execution_count": null,
   "metadata": {
    "execution": {
     "iopub.execute_input": "2025-03-31T10:43:54.233006Z",
     "iopub.status.busy": "2025-03-31T10:43:54.23259Z",
     "iopub.status.idle": "2025-03-31T10:43:54.466903Z",
     "shell.execute_reply": "2025-03-31T10:43:54.465823Z",
     "shell.execute_reply.started": "2025-03-31T10:43:54.232966Z"
    },
    "trusted": true
   },
   "outputs": [],
   "source": [
    "# Sorting results for better visualization\n",
    "sorted_results = dict(sorted(results.items(), key=lambda x: x[1], reverse=True))\n",
    "\n",
    "# Plot bar chart\n",
    "plt.figure(figsize=(10, 6))\n",
    "bars = plt.bar(sorted_results.keys(), sorted_results.values(), color=[\"darkblue\", \"darkgreen\", \"darkred\", \"purple\", \"orange\", \"brown\", \"gray\"])\n",
    "\n",
    "# Annotate each bar with accuracy percentage\n",
    "for bar in bars:\n",
    "    plt.text(bar.get_x() + bar.get_width()/2, bar.get_height() + 1, f\"{bar.get_height():.2f}%\", ha='center', fontsize=12, fontweight=\"bold\")\n",
    "\n",
    "# Labels and title\n",
    "plt.xlabel(\"ML Models\")\n",
    "plt.ylabel(\"Accuracy (%)\")\n",
    "plt.title(\"Model Performance Ranking\")\n",
    "plt.ylim(0, 100)  # Ensures all percentages fit in the chart\n",
    "plt.xticks(rotation=25)\n",
    "plt.grid(axis=\"y\", linestyle=\"--\", alpha=0.7)\n",
    "\n",
    "# Show plot\n",
    "plt.show()"
   ]
  },
  {
   "cell_type": "markdown",
   "metadata": {},
   "source": [
    "## Thank you...pls upvote!!!!!"
   ]
  }
 ],
 "metadata": {
  "kaggle": {
   "accelerator": "none",
   "dataSources": [
    {
     "datasetId": 6817249,
     "sourceId": 10958326,
     "sourceType": "datasetVersion"
    }
   ],
   "dockerImageVersionId": 30918,
   "isGpuEnabled": false,
   "isInternetEnabled": false,
   "language": "python",
   "sourceType": "notebook"
  },
  "kernelspec": {
   "display_name": "Python 3",
   "language": "python",
   "name": "python3"
  },
  "language_info": {
   "codemirror_mode": {
    "name": "ipython",
    "version": 3
   },
   "file_extension": ".py",
   "mimetype": "text/x-python",
   "name": "python",
   "nbconvert_exporter": "python",
   "pygments_lexer": "ipython3",
   "version": "3.10.12"
  }
 },
 "nbformat": 4,
 "nbformat_minor": 4
}
